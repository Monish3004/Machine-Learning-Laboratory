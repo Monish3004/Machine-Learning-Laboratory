{
  "nbformat": 4,
  "nbformat_minor": 0,
  "metadata": {
    "colab": {
      "provenance": [],
      "authorship_tag": "ABX9TyPrw+LH1tQKaSSrmrmC7wxI",
      "include_colab_link": true
    },
    "kernelspec": {
      "name": "python3",
      "display_name": "Python 3"
    },
    "language_info": {
      "name": "python"
    }
  },
  "cells": [
    {
      "cell_type": "markdown",
      "metadata": {
        "id": "view-in-github",
        "colab_type": "text"
      },
      "source": [
        "<a href=\"https://colab.research.google.com/github/Monish3004/Machine-Learning-Laboratory/blob/Find--S-Algorithm/Find_S_Algorithm.ipynb\" target=\"_parent\"><img src=\"https://colab.research.google.com/assets/colab-badge.svg\" alt=\"Open In Colab\"/></a>"
      ]
    },
    {
      "cell_type": "markdown",
      "source": [
        "**Find - S Algorithm**\n"
      ],
      "metadata": {
        "id": "HEeKGArlOw1e"
      }
    },
    {
      "cell_type": "markdown",
      "source": [
        "**Assumed Dataset**"
      ],
      "metadata": {
        "id": "imasfE8KVNK-"
      }
    },
    {
      "cell_type": "code",
      "source": [
        "data=[['Green','Hard','No','Wrinkled','Yes'],\n",
        "      ['Green','Hard','Yes','Smooth','No'],\n",
        "      ['Brown','Soft','No','Wrinkled','No'],\n",
        "      ['Orange','Hard','No','Wrinkled','Yes'],\n",
        "      ['Green','Soft','Yes','Smooth','Yes'],\n",
        "      ['Green','Hard','Yes','Wrinkled','Yes'],\n",
        "      ['Orange','Hard','No','Wrinkled','Yes']]"
      ],
      "metadata": {
        "id": "9UAs4yo5OxdX"
      },
      "execution_count": 45,
      "outputs": []
    },
    {
      "cell_type": "markdown",
      "source": [
        "**Extracting the Hypothesis**"
      ],
      "metadata": {
        "id": "8FoiiJLDVSNl"
      }
    },
    {
      "cell_type": "code",
      "source": [
        "h=['.','.','.','.','.']\n",
        "\n",
        "for i in range(len(data)):\n",
        "  if(data[i][4]=='Yes'):\n",
        "    h=data[i]\n",
        "    break\n",
        "\n",
        "hyp=h[0:4]\n",
        "print(hyp)"
      ],
      "metadata": {
        "colab": {
          "base_uri": "https://localhost:8080/"
        },
        "id": "nGpkkw7sRgnW",
        "outputId": "7cd7ebe5-4533-4398-b0d9-3d7e4dbf9e7a"
      },
      "execution_count": 46,
      "outputs": [
        {
          "output_type": "stream",
          "name": "stdout",
          "text": [
            "['Green', 'Hard', 'No', 'Wrinkled']\n"
          ]
        }
      ]
    },
    {
      "cell_type": "markdown",
      "source": [
        "**Implementation of the Algorithm**"
      ],
      "metadata": {
        "id": "cBEowR-sVWxy"
      }
    },
    {
      "cell_type": "code",
      "source": [
        "for k in range(i+1,len(data)-1):\n",
        "  if(data[k][4]=='Yes'):\n",
        "    for j in range(len(hyp)):\n",
        "      if(hyp[j]!=data[k][j]):\n",
        "        hyp[j]='?'\n",
        "\n",
        "\n",
        "print(hyp)"
      ],
      "metadata": {
        "colab": {
          "base_uri": "https://localhost:8080/"
        },
        "id": "76bdiYSjSkp5",
        "outputId": "94f577dc-0033-44f1-9136-d416a941b78d"
      },
      "execution_count": 47,
      "outputs": [
        {
          "output_type": "stream",
          "name": "stdout",
          "text": [
            "['?', '?', '?', '?']\n"
          ]
        }
      ]
    }
  ]
}