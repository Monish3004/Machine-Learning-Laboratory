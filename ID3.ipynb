{
  "nbformat": 4,
  "nbformat_minor": 0,
  "metadata": {
    "colab": {
      "provenance": [],
      "authorship_tag": "ABX9TyMOfRMyqZiNgjOaeHmo99d5",
      "include_colab_link": true
    },
    "kernelspec": {
      "name": "python3",
      "display_name": "Python 3"
    },
    "language_info": {
      "name": "python"
    }
  },
  "cells": [
    {
      "cell_type": "markdown",
      "metadata": {
        "id": "view-in-github",
        "colab_type": "text"
      },
      "source": [
        "<a href=\"https://colab.research.google.com/github/Monish3004/Machine-Learning-Laboratory/blob/ID3/ID3.ipynb\" target=\"_parent\"><img src=\"https://colab.research.google.com/assets/colab-badge.svg\" alt=\"Open In Colab\"/></a>"
      ]
    },
    {
      "cell_type": "code",
      "execution_count": null,
      "metadata": {
        "colab": {
          "base_uri": "https://localhost:8080/"
        },
        "id": "gJAHcCtGa4kv",
        "outputId": "b3c66c22-e1e1-4cdf-8d5e-63a6f777973d"
      },
      "outputs": [
        {
          "output_type": "stream",
          "name": "stdout",
          "text": [
            "\n",
            " Given Play Tennis Data Set:\n",
            "\n",
            "      Outlook Temperature Humidity    Wind play\n",
            "0      Sunny         Hot     High    Weak   No\n",
            "1      Sunny         Hot     High  Strong   No\n",
            "2   Overcast         Hot     High    Weak  Yes\n",
            "3       Rain        Mild     High    Weak  Yes\n",
            "4       Rain        Cool   Normal    Weak  Yes\n",
            "5       Rain        Cool   Normal  Strong   No\n",
            "6   Overcast        Cool   Normal  Strong  Yes\n",
            "7      Sunny        Mild     High    Weak   No\n",
            "8      Sunny        Cool   Normal    Weak  Yes\n",
            "9       Rain        Mild   Normal    Weak  Yes\n",
            "10     Sunny        Mild   Normal  Strong  Yes\n",
            "11  Overcast        Mild     High  Strong  Yes\n",
            "12  Overcast         Hot   Normal    Weak  Yes\n",
            "13      Rain        Mild     High  Strong   No\n",
            "{'Outlook': {'Overcast': 'Yes',\n",
            "             'Rain': {'Wind': {'Strong': 'No', 'Weak': 'Yes'}},\n",
            "             'Sunny': {'Humidity': {'High': 'No', 'Normal': 'Yes'}}}}\n",
            "Outlook\n",
            "dict_keys(['Overcast', 'Rain', 'Sunny'])\n",
            "Sunny\n",
            "Humidity\n",
            "dict_keys(['High', 'Normal'])\n",
            "High\n",
            "No\n"
          ]
        }
      ],
      "source": [
        "def find_entropy(df):\n",
        "    Class = df.keys()[-1]   #To make the code generic, changing target variable class name\n",
        "    entropy = 0\n",
        "    values = df[Class].unique()\n",
        "    for value in values:\n",
        "        fraction = df[Class].value_counts()[value]/len(df[Class])\n",
        "        entropy += -fraction*np.log2(fraction)\n",
        "    return entropy\n",
        "def find_entropy_attribute(df,attribute):\n",
        "    Class = df.keys()[-1]   #To make the code generic, changing target variable class name\n",
        "    target_variables = df[Class].unique()  #This gives all 'Yes' and 'No'\n",
        "    variables = df[attribute].unique()    #This gives different features in that attribute (like 'Hot','Cold' in Temperature)\n",
        "    entropy2 = 0\n",
        "    for variable in variables:\n",
        "        entropy = 0\n",
        "        for target_variable in target_variables:\n",
        "            num = len(df[attribute][df[attribute]==variable][df[Class] ==target_variable])\n",
        "            den = len(df[attribute][df[attribute]==variable])\n",
        "            fraction = num/(den+eps)\n",
        "            entropy += -fraction*log(fraction+eps)\n",
        "        fraction2 = den/len(df)\n",
        "        entropy2 += -fraction2*entropy\n",
        "    return abs(entropy2)\n",
        "def find_winner(df):\n",
        "    Entropy_att = []\n",
        "    IG = []\n",
        "    for key in df.keys()[:-1]:#         Entropy_att.append(find_entropy_attribute(df,key))\n",
        "        IG.append(find_entropy(df)-find_entropy_attribute(df,key))\n",
        "    return df.keys()[:-1][np.argmax(IG)] \n",
        "def get_subtable(df, node,value):\n",
        "    return df[df[node] == value].reset_index(drop=True)\n",
        "def buildTree(df,tree=None): \n",
        "    Class = df.keys()[-1]   #To make the code generic, changing target variable class name  #Here we build our decision tree  #Get attribute with maximum information gain\n",
        "    node = find_winner(df)#Get distinct value of that attribute e.g Salary is node and Low,Med and High are values\n",
        "    attValue = np.unique(df[node])#Create an empty dictionary to create tree    \n",
        "    if tree is None:                    \n",
        "        tree={}\n",
        "        tree[node] = {}#We make loop to construct a tree by calling this function recursively. #In this we check if the subset is pure and stops if it is pure. \n",
        "    for value in attValue:\n",
        "        subtable = get_subtable(df,node,value)\n",
        "        clValue,counts = np.unique(subtable['play'],return_counts=True)                        \n",
        "        if len(counts)==1:#Checking purity of subset\n",
        "            tree[node][value] = clValue[0]                                                    \n",
        "        else:        \n",
        "            tree[node][value] = buildTree(subtable) #Calling the function recursively               \n",
        "    return tree\n",
        "\n",
        "import pandas as pd\n",
        "import numpy as np\n",
        "eps = np.finfo(float).eps\n",
        "from numpy import log2 as log\n",
        "df = pd.read_csv('/content/data.csv')\n",
        "print(\"\\n Given Play Tennis Data Set:\\n\\n\",df)\n",
        "tree= buildTree(df)\n",
        "import pprint\n",
        "pprint.pprint(tree)\n",
        "\n",
        "test={'Outlook':'Sunny','Temperature':'Hot','Humidity':'High','Wind':'Weak'}\n",
        "def func(test, tree, default=None):\n",
        "    attribute = next(iter(tree)) \n",
        "    print(attribute) \n",
        "    if test[attribute] in tree[attribute].keys():\n",
        "        print(tree[attribute].keys())\n",
        "        print(test[attribute])\n",
        "        result = tree[attribute][test[attribute]]\n",
        "        if isinstance(result, dict):\n",
        "            return func(test, result)\n",
        "        else:\n",
        "            return result\n",
        "    else:\n",
        "        return default\n",
        "ans = func(test, tree)\n",
        "print(ans)\n"
      ]
    }
  ]
}