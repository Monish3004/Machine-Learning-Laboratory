{
  "nbformat": 4,
  "nbformat_minor": 0,
  "metadata": {
    "colab": {
      "provenance": [],
      "authorship_tag": "ABX9TyOGJqNVIV4OUOY5OmS+8bzq",
      "include_colab_link": true
    },
    "kernelspec": {
      "name": "python3",
      "display_name": "Python 3"
    },
    "language_info": {
      "name": "python"
    }
  },
  "cells": [
    {
      "cell_type": "markdown",
      "metadata": {
        "id": "view-in-github",
        "colab_type": "text"
      },
      "source": [
        "<a href=\"https://colab.research.google.com/github/Monish3004/Machine-Learning-Laboratory/blob/Candidate-Elimination-Algorithm/Candidate_Elimination_Algorithm.ipynb\" target=\"_parent\"><img src=\"https://colab.research.google.com/assets/colab-badge.svg\" alt=\"Open In Colab\"/></a>"
      ]
    },
    {
      "cell_type": "code",
      "execution_count": 38,
      "metadata": {
        "id": "3UABomzQKx97"
      },
      "outputs": [],
      "source": [
        "data=[['sunny','warm','normal','strong','warm','same','Yes'],\n",
        "      ['sunny','warm','high','strong','warm','same','Yes'],\n",
        "      ['rainy','cold','high','strong','warm','change','No'],\n",
        "      ['sunny','warm','high','strong','cool','change','Yes']]"
      ]
    },
    {
      "cell_type": "code",
      "source": [
        "G=[['?','?','?','?','?','?'],['?','?','?','?','?','?'],['?','?','?','?','?','?'],['?','?','?','?','?','?'],['?','?','?','?','?','?'],['?','?','?','?','?','?']]\n",
        "s=['.','.','.','.','.','.']\n",
        "\n",
        "for i in range(len(data)):\n",
        "  if(data[i][len(data[0])-1]=='Yes'):\n",
        "    s=data[i]\n",
        "    break\n",
        "\n",
        "s=s[0:len(data[0])-1]\n",
        "print(s)"
      ],
      "metadata": {
        "colab": {
          "base_uri": "https://localhost:8080/"
        },
        "id": "_WFUqCiMP__J",
        "outputId": "2affc8b0-c639-4004-9c9d-7a080f658f03"
      },
      "execution_count": 69,
      "outputs": [
        {
          "output_type": "stream",
          "name": "stdout",
          "text": [
            "['sunny', 'warm', 'normal', 'strong', 'warm', 'same']\n"
          ]
        }
      ]
    },
    {
      "cell_type": "code",
      "source": [
        "for i in range(i+1,len(data)):\n",
        "  if(data[i][6]=='Yes'):\n",
        "    for j in range(len(s)):\n",
        "      if(s[j]!=data[i][j]):\n",
        "        s[j]='?'\n",
        "  else:\n",
        "    for j in range (len(s)):\n",
        "      if(data[i][j]!=s[j] and s[j]!='?'):\n",
        "        G[j][j]=s[j]\n",
        "      else:\n",
        "        G[j][j]='?'\n",
        "print('S=',s)\n",
        "print(\"G=\",G)\n"
      ],
      "metadata": {
        "colab": {
          "base_uri": "https://localhost:8080/"
        },
        "id": "jZk4quv6RiYC",
        "outputId": "3523e286-d62f-4b11-fabf-ad99021b931f"
      },
      "execution_count": 72,
      "outputs": [
        {
          "output_type": "stream",
          "name": "stdout",
          "text": [
            "S= ['sunny', 'warm', '?', 'strong', '?', '?']\n",
            "G= [['sunny', '?', '?', '?', '?', '?'], ['?', 'warm', '?', '?', '?', '?'], ['?', '?', '?', '?', '?', '?'], ['?', '?', '?', '?', '?', '?'], ['?', '?', '?', '?', '?', '?'], ['?', '?', '?', '?', '?', 'same']]\n"
          ]
        }
      ]
    }
  ]
}