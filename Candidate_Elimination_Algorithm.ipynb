{
  "nbformat": 4,
  "nbformat_minor": 0,
  "metadata": {
    "colab": {
      "provenance": [],
      "authorship_tag": "ABX9TyPZOFPvp/wTUQ9yJuwC8v/+",
      "include_colab_link": true
    },
    "kernelspec": {
      "name": "python3",
      "display_name": "Python 3"
    },
    "language_info": {
      "name": "python"
    }
  },
  "cells": [
    {
      "cell_type": "markdown",
      "metadata": {
        "id": "view-in-github",
        "colab_type": "text"
      },
      "source": [
        "<a href=\"https://colab.research.google.com/github/Monish3004/Machine-Learning-Laboratory/blob/Candidate-Elimination-Algorithm/Candidate_Elimination_Algorithm.ipynb\" target=\"_parent\"><img src=\"https://colab.research.google.com/assets/colab-badge.svg\" alt=\"Open In Colab\"/></a>"
      ]
    },
    {
      "cell_type": "code",
      "execution_count": null,
      "metadata": {
        "id": "3UABomzQKx97"
      },
      "outputs": [],
      "source": [
        "data=[['sunny','warm','normal','strong','warm','same','Yes'],\n",
        "      ['sunny','warm','high','strong','warm','same','Yes'],\n",
        "      ['rainy','cold','high','strong','warm','change','No'],\n",
        "      ['sunny','warm','high','strong','cool','change','Yes']]"
      ]
    },
    {
      "cell_type": "markdown",
      "source": [
        "**Extracting the initial hypothesis**"
      ],
      "metadata": {
        "id": "Lzha9QMQd0Oo"
      }
    },
    {
      "cell_type": "code",
      "source": [
        "G=[['?','?','?','?','?','?'],['?','?','?','?','?','?'],['?','?','?','?','?','?'],\n",
        "   ['?','?','?','?','?','?'],['?','?','?','?','?','?'],['?','?','?','?','?','?']]\n",
        "gene=[]\n",
        "s=['.','.','.','.','.','.']\n",
        "\n",
        "for i in range(len(data)):\n",
        "  if(data[i][len(data[0])-1]=='Yes'):\n",
        "    s=data[i]\n",
        "    temp=data[i]\n",
        "    data[i]=data[0]\n",
        "    data[0]=temp\n",
        "    break\n",
        "\n",
        "s=s[0:len(data[0])-1]\n",
        "print(\"Initial S=\",s)"
      ],
      "metadata": {
        "colab": {
          "base_uri": "https://localhost:8080/"
        },
        "id": "_WFUqCiMP__J",
        "outputId": "354f05cb-bcad-4689-9dd0-0b64c072dc1b"
      },
      "execution_count": null,
      "outputs": [
        {
          "output_type": "stream",
          "name": "stdout",
          "text": [
            "Initial S= ['sunny', 'warm', 'normal', 'strong', 'warm', 'same']\n"
          ]
        }
      ]
    },
    {
      "cell_type": "markdown",
      "source": [
        "**Implementation of the Candidate Elimination Algorithm**"
      ],
      "metadata": {
        "id": "eB8Beb1Jd8Bo"
      }
    },
    {
      "cell_type": "code",
      "source": [
        "for i in range(1,len(data)):\n",
        "  if(data[i][len(data[0])-1]=='Yes'):\n",
        "    for j in range(len(s)):\n",
        "      if(s[j]!=data[i][j]):\n",
        "        s[j]='?'\n",
        "  else:\n",
        "    for j in range (len(s)):\n",
        "      if(data[i][j]!=s[j] and s[j]!='?'):\n",
        "        G[j][j]=s[j]\n",
        "      else:\n",
        "        G[j][j]='?'\n",
        "print('S=',s)\n",
        "for i in range(len(G)):\n",
        "  if(s[i]!='?' ):\n",
        "    gene.append(G[i])\n",
        "\n",
        "print(gene)"
      ],
      "metadata": {
        "colab": {
          "base_uri": "https://localhost:8080/"
        },
        "id": "jZk4quv6RiYC",
        "outputId": "fcc86de6-d8d7-4ee6-8d5d-4fbfe4634f2e"
      },
      "execution_count": null,
      "outputs": [
        {
          "output_type": "stream",
          "name": "stdout",
          "text": [
            "S= ['sunny', 'warm', '?', 'strong', '?', '?']\n",
            "[['sunny', '?', '?', '?', '?', '?'], ['?', 'warm', '?', '?', '?', '?'], ['?', '?', '?', '?', '?', '?']]\n"
          ]
        }
      ]
    },
    {
      "cell_type": "markdown",
      "source": [],
      "metadata": {
        "id": "vyJBHDgrdzWp"
      }
    }
  ]
}