{
  "nbformat": 4,
  "nbformat_minor": 0,
  "metadata": {
    "colab": {
      "provenance": [],
      "authorship_tag": "ABX9TyNjlPDeyuil4uBcXB1a7q93",
      "include_colab_link": true
    },
    "kernelspec": {
      "name": "python3",
      "display_name": "Python 3"
    },
    "language_info": {
      "name": "python"
    }
  },
  "cells": [
    {
      "cell_type": "markdown",
      "metadata": {
        "id": "view-in-github",
        "colab_type": "text"
      },
      "source": [
        "<a href=\"https://colab.research.google.com/github/Monish3004/Machine-Learning-Laboratory/blob/Candidate-Elimination-Algorithm/Candidate_Elimination_Algorithm.ipynb\" target=\"_parent\"><img src=\"https://colab.research.google.com/assets/colab-badge.svg\" alt=\"Open In Colab\"/></a>"
      ]
    },
    {
      "cell_type": "code",
      "execution_count": 95,
      "metadata": {
        "id": "3UABomzQKx97"
      },
      "outputs": [],
      "source": [
        "data=[['sunny','warm','normal','strong','warm','same','Yes'],\n",
        "      ['sunny','warm','high','strong','warm','same','Yes'],\n",
        "      ['rainy','cold','high','strong','warm','change','No'],\n",
        "      ['sunny','warm','high','strong','cool','change','Yes']]"
      ]
    },
    {
      "cell_type": "markdown",
      "source": [
        "**Extracting the initial hypothesis**"
      ],
      "metadata": {
        "id": "Lzha9QMQd0Oo"
      }
    },
    {
      "cell_type": "code",
      "source": [
        "G=[['?','?','?','?','?','?'],['?','?','?','?','?','?'],['?','?','?','?','?','?'],['?','?','?','?','?','?'],['?','?','?','?','?','?'],['?','?','?','?','?','?']]\n",
        "gene=[]\n",
        "s=['.','.','.','.','.','.']\n",
        "\n",
        "for i in range(len(data)):\n",
        "  if(data[i][len(data[0])-1]=='Yes'):\n",
        "    s=data[i]\n",
        "    break\n",
        "\n",
        "s=s[0:len(data[0])-1]\n",
        "print(s)"
      ],
      "metadata": {
        "colab": {
          "base_uri": "https://localhost:8080/"
        },
        "id": "_WFUqCiMP__J",
        "outputId": "0074ac87-ad6c-4008-beb0-b2a9da71f7c0"
      },
      "execution_count": 96,
      "outputs": [
        {
          "output_type": "stream",
          "name": "stdout",
          "text": [
            "['sunny', 'warm', 'normal', 'strong', 'warm', 'same']\n"
          ]
        }
      ]
    },
    {
      "cell_type": "markdown",
      "source": [
        "**Implementation of the Candidate Elimination Algorithm**"
      ],
      "metadata": {
        "id": "eB8Beb1Jd8Bo"
      }
    },
    {
      "cell_type": "code",
      "source": [
        "for i in range(i+1,len(data)):\n",
        "  if(data[i][6]=='Yes'):\n",
        "    for j in range(len(s)):\n",
        "      if(s[j]!=data[i][j]):\n",
        "        s[j]='?'\n",
        "  else:\n",
        "    for j in range (len(s)):\n",
        "      if(data[i][j]!=s[j] and s[j]!='?'):\n",
        "        G[j][j]=s[j]\n",
        "      else:\n",
        "        G[j][j]='?'\n",
        "print('S=',s)\n",
        "for i in range(len(G)):\n",
        "  if(s[i]!='?' ):\n",
        "    gene.append(G[i])\n",
        "\n",
        "print(gene)"
      ],
      "metadata": {
        "colab": {
          "base_uri": "https://localhost:8080/"
        },
        "id": "jZk4quv6RiYC",
        "outputId": "9b8a855e-432d-43cf-d535-798ebcad8f93"
      },
      "execution_count": 97,
      "outputs": [
        {
          "output_type": "stream",
          "name": "stdout",
          "text": [
            "S= ['sunny', 'warm', '?', 'strong', '?', '?']\n",
            "[['sunny', '?', '?', '?', '?', '?'], ['?', 'warm', '?', '?', '?', '?'], ['?', '?', '?', '?', '?', '?']]\n"
          ]
        }
      ]
    },
    {
      "cell_type": "markdown",
      "source": [],
      "metadata": {
        "id": "vyJBHDgrdzWp"
      }
    }
  ]
}